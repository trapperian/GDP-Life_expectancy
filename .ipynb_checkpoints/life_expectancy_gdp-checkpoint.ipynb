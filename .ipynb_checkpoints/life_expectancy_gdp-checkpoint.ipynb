{
 "cells": [
  {
   "cell_type": "code",
   "execution_count": 1,
   "metadata": {},
   "outputs": [],
   "source": [
    "import pandas as pd\n",
    "import matplotlib.pyplot as plt\n",
    "import seaborn as sns"
   ]
  },
  {
   "cell_type": "code",
   "execution_count": 2,
   "metadata": {},
   "outputs": [],
   "source": [
    "data = pd.read_csv('all_data.csv')"
   ]
  },
  {
   "cell_type": "code",
   "execution_count": 3,
   "metadata": {},
   "outputs": [
    {
     "name": "stdout",
     "output_type": "stream",
     "text": [
      "  Country  Year  Life expectancy at birth (years)           GDP\n",
      "0   Chile  2000                              77.3  7.786093e+10\n",
      "1   Chile  2001                              77.3  7.097992e+10\n",
      "2   Chile  2002                              77.8  6.973681e+10\n",
      "3   Chile  2003                              77.9  7.564346e+10\n",
      "4   Chile  2004                              78.0  9.921039e+10\n"
     ]
    }
   ],
   "source": [
    "print(data.head())"
   ]
  },
  {
   "cell_type": "code",
   "execution_count": 4,
   "metadata": {},
   "outputs": [
    {
     "name": "stdout",
     "output_type": "stream",
     "text": [
      "3880498570768.396\n"
     ]
    }
   ],
   "source": [
    "average_gdp = data['GDP'].mean()\n",
    "print(average_gdp)"
   ]
  },
  {
   "cell_type": "code",
   "execution_count": 14,
   "metadata": {},
   "outputs": [],
   "source": [
    "country_list = data.Country.unique()"
   ]
  },
  {
   "cell_type": "code",
   "execution_count": 6,
   "metadata": {},
   "outputs": [
    {
     "name": "stdout",
     "output_type": "stream",
     "text": [
      "81.0\n",
      "44.3\n"
     ]
    }
   ],
   "source": [
    "average_life_expectancy_average = data['Life expectancy at birth (years)'].mean()\n",
    "print(data['Life expectancy at birth (years)'].max())\n",
    "print(data['Life expectancy at birth (years)'].min())"
   ]
  },
  {
   "cell_type": "code",
   "execution_count": 7,
   "metadata": {},
   "outputs": [
    {
     "name": "stdout",
     "output_type": "stream",
     "text": [
      "[2000 2001 2002 2003 2004 2005 2006 2007 2008 2009 2010 2011 2012 2013\n",
      " 2014 2015]\n"
     ]
    }
   ],
   "source": [
    "years = print(data.Year.unique())"
   ]
  },
  {
   "cell_type": "code",
   "execution_count": 16,
   "metadata": {},
   "outputs": [
    {
     "name": "stdout",
     "output_type": "stream",
     "text": [
      "                            Year  Life expectancy at birth (years)  \\\n",
      "Country                                                              \n",
      "Chile                     2007.5                          78.94375   \n",
      "China                     2007.5                          74.26250   \n",
      "Germany                   2007.5                          79.65625   \n",
      "Mexico                    2007.5                          75.71875   \n",
      "United States of America  2007.5                          78.06250   \n",
      "Zimbabwe                  2007.5                          50.09375   \n",
      "\n",
      "                                   GDP  \n",
      "Country                                 \n",
      "Chile                     1.697888e+11  \n",
      "China                     4.957714e+12  \n",
      "Germany                   3.094776e+12  \n",
      "Mexico                    9.766506e+11  \n",
      "United States of America  1.407500e+13  \n",
      "Zimbabwe                  9.062580e+09  \n"
     ]
    }
   ],
   "source": [
    "averages_by_country = data.groupby(['Country']).mean()\n"
   ]
  },
  {
   "cell_type": "code",
   "execution_count": 13,
   "metadata": {},
   "outputs": [
    {
     "data": {
      "text/html": [
       "<div>\n",
       "<style scoped>\n",
       "    .dataframe tbody tr th:only-of-type {\n",
       "        vertical-align: middle;\n",
       "    }\n",
       "\n",
       "    .dataframe tbody tr th {\n",
       "        vertical-align: top;\n",
       "    }\n",
       "\n",
       "    .dataframe thead th {\n",
       "        text-align: right;\n",
       "    }\n",
       "</style>\n",
       "<table border=\"1\" class=\"dataframe\">\n",
       "  <thead>\n",
       "    <tr style=\"text-align: right;\">\n",
       "      <th></th>\n",
       "      <th>Life expectancy at birth (years)</th>\n",
       "      <th>GDP</th>\n",
       "    </tr>\n",
       "    <tr>\n",
       "      <th>Year</th>\n",
       "      <th></th>\n",
       "      <th></th>\n",
       "    </tr>\n",
       "  </thead>\n",
       "  <tbody>\n",
       "    <tr>\n",
       "      <th>2000</th>\n",
       "      <td>70.766667</td>\n",
       "      <td>2.371583e+12</td>\n",
       "    </tr>\n",
       "    <tr>\n",
       "      <th>2001</th>\n",
       "      <td>70.833333</td>\n",
       "      <td>2.448752e+12</td>\n",
       "    </tr>\n",
       "    <tr>\n",
       "      <th>2002</th>\n",
       "      <td>70.950000</td>\n",
       "      <td>2.561221e+12</td>\n",
       "    </tr>\n",
       "    <tr>\n",
       "      <th>2003</th>\n",
       "      <td>71.033333</td>\n",
       "      <td>2.743446e+12</td>\n",
       "    </tr>\n",
       "    <tr>\n",
       "      <th>2004</th>\n",
       "      <td>71.300000</td>\n",
       "      <td>2.991647e+12</td>\n",
       "    </tr>\n",
       "    <tr>\n",
       "      <th>2005</th>\n",
       "      <td>71.483333</td>\n",
       "      <td>3.207074e+12</td>\n",
       "    </tr>\n",
       "    <tr>\n",
       "      <th>2006</th>\n",
       "      <td>71.950000</td>\n",
       "      <td>3.463349e+12</td>\n",
       "    </tr>\n",
       "    <tr>\n",
       "      <th>2007</th>\n",
       "      <td>72.300000</td>\n",
       "      <td>3.785750e+12</td>\n",
       "    </tr>\n",
       "    <tr>\n",
       "      <th>2008</th>\n",
       "      <td>72.666667</td>\n",
       "      <td>4.055986e+12</td>\n",
       "    </tr>\n",
       "    <tr>\n",
       "      <th>2009</th>\n",
       "      <td>73.066667</td>\n",
       "      <td>4.000653e+12</td>\n",
       "    </tr>\n",
       "    <tr>\n",
       "      <th>2010</th>\n",
       "      <td>73.483333</td>\n",
       "      <td>4.299587e+12</td>\n",
       "    </tr>\n",
       "    <tr>\n",
       "      <th>2011</th>\n",
       "      <td>74.200000</td>\n",
       "      <td>4.710965e+12</td>\n",
       "    </tr>\n",
       "    <tr>\n",
       "      <th>2012</th>\n",
       "      <td>74.600000</td>\n",
       "      <td>4.962082e+12</td>\n",
       "    </tr>\n",
       "    <tr>\n",
       "      <th>2013</th>\n",
       "      <td>74.966667</td>\n",
       "      <td>5.269258e+12</td>\n",
       "    </tr>\n",
       "    <tr>\n",
       "      <th>2014</th>\n",
       "      <td>75.316667</td>\n",
       "      <td>5.558059e+12</td>\n",
       "    </tr>\n",
       "    <tr>\n",
       "      <th>2015</th>\n",
       "      <td>75.716667</td>\n",
       "      <td>5.658565e+12</td>\n",
       "    </tr>\n",
       "  </tbody>\n",
       "</table>\n",
       "</div>"
      ],
      "text/plain": [
       "      Life expectancy at birth (years)           GDP\n",
       "Year                                                \n",
       "2000                         70.766667  2.371583e+12\n",
       "2001                         70.833333  2.448752e+12\n",
       "2002                         70.950000  2.561221e+12\n",
       "2003                         71.033333  2.743446e+12\n",
       "2004                         71.300000  2.991647e+12\n",
       "2005                         71.483333  3.207074e+12\n",
       "2006                         71.950000  3.463349e+12\n",
       "2007                         72.300000  3.785750e+12\n",
       "2008                         72.666667  4.055986e+12\n",
       "2009                         73.066667  4.000653e+12\n",
       "2010                         73.483333  4.299587e+12\n",
       "2011                         74.200000  4.710965e+12\n",
       "2012                         74.600000  4.962082e+12\n",
       "2013                         74.966667  5.269258e+12\n",
       "2014                         75.316667  5.558059e+12\n",
       "2015                         75.716667  5.658565e+12"
      ]
     },
     "execution_count": 13,
     "metadata": {},
     "output_type": "execute_result"
    }
   ],
   "source": [
    "averages_by_year = data.groupby(['Year']).mean()\n",
    "averages_by_year"
   ]
  },
  {
   "cell_type": "code",
   "execution_count": 19,
   "metadata": {},
   "outputs": [
    {
     "data": {
      "image/png": "[encoded data removed]",
      "text/plain": [
       "<Figure size 432x288 with 1 Axes>"
      ]
     },
     "metadata": {
      "needs_background": "light"
     },
     "output_type": "display_data"
    }
   ],
   "source": [
    "plt.bar(country_list, averages_by_country['GDP'])\n",
    "plt.title('Average GDP by Country')\n",
    "plt.xlabel('Country')\n",
    "plt.ylabel('Average GDP Across Years')\n",
    "plt.xticks(rotation=45)\n",
    "plt.show()"
   ]
  },
  {
   "cell_type": "code",
   "execution_count": 21,
   "metadata": {},
   "outputs": [
    {
     "data": {
      "image/png": "[encoded data removed]",
      "text/plain": [
       "<Figure size 432x288 with 1 Axes>"
      ]
     },
     "metadata": {
      "needs_background": "light"
     },
     "output_type": "display_data"
    }
   ],
   "source": [
    "plt.bar(country_list, averages_by_country['Life expectancy at birth (years)'])\n",
    "plt.title('Average Life Expectancy by Country')\n",
    "plt.xlabel('Country')\n",
    "plt.ylabel('Average Life Expectancy Across Years')\n",
    "plt.xticks(rotation=45)\n",
    "plt.show()"
   ]
  },
  {
   "cell_type": "code",
   "execution_count": 31,
   "metadata": {},
   "outputs": [
    {
     "data": {
      "image/png": "[encoded data removed]",
      "text/plain": [
       "<Figure size 576x432 with 2 Axes>"
      ]
     },
     "metadata": {
      "needs_background": "light"
     },
     "output_type": "display_data"
    }
   ],
   "source": [
    "chile_data = data.loc[data['Country'] == 'Chile']\n",
    "plt.figure(figsize=(8, 6))\n",
    "\n",
    "plt.subplot(2, 1, 1)\n",
    "plt.plot(chile_data['Year'], chile_data['GDP'])\n",
    "plt.title('Chile GDP Over Time')\n",
    "plt.xlabel('Year')\n",
    "plt.ylabel('GDP')\n",
    "\n",
    "plt.subplot(2, 1, 2)\n",
    "plt.plot(chile_data['Year'], chile_data['Life expectancy at birth (years)'])\n",
    "plt.title('Chile Life Expectancy Over Time')\n",
    "plt.xlabel('Year')\n",
    "plt.ylabel('Life Expectancy at Birth')\n",
    "\n",
    "plt.tight_layout()\n",
    "plt.show()"
   ]
  }
 ],
 "metadata": {
  "kernelspec": {
   "display_name": "Python 3",
   "language": "python",
   "name": "python3"
  },
  "language_info": {
   "codemirror_mode": {
    "name": "ipython",
    "version": 3
   },
   "file_extension": ".py",
   "mimetype": "text/x-python",
   "name": "python",
   "nbconvert_exporter": "python",
   "pygments_lexer": "ipython3",
   "version": "3.8.3"
  }
 },
 "nbformat": 4,
 "nbformat_minor": 4
}
